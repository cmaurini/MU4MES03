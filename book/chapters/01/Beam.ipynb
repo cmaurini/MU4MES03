{
 "cells": [
  {
   "attachments": {},
   "cell_type": "markdown",
   "metadata": {},
   "source": [
    "# From beams to frames \n",
    "\n",
    "This notebook introduces a simple python code for frame modelling.\n",
    "\n",
    "Objectives:\n",
    " - Solve the linear beam differential equations using sympy\n",
    " - Compute the beam element stiffness matrix\n",
    " - Assemble the element matrix to form a frame\n",
    " - Solve a frame problem and visualize the result"
   ]
  },
  {
   "attachments": {},
   "cell_type": "markdown",
   "metadata": {},
   "source": [
    "Import statements : we use sympy and matplotlib"
   ]
  },
  {
   "cell_type": "code",
   "execution_count": 1,
   "metadata": {},
   "outputs": [],
   "source": [
    "from sympy import (Function, Symbol, Derivative, Eq, symbols, simplify, integrate, Matrix, Array, latex,\n",
    "                   dsolve, sin, cos, collect, tensorcontraction,tensorproduct, derive_by_array)\n",
    "import matplotlib.pyplot as plt\n",
    "import numpy as np\n",
    "import sympy"
   ]
  },
  {
   "attachments": {},
   "cell_type": "markdown",
   "metadata": {},
   "source": [
    "## Elemental beam problem\n",
    "\n",
    "We start by solving the elemental beam problem. It consists of a clamped-clamped straight beam where we apply the displacement and rotations at the two ends. \n",
    "We denote by $\\underline t$ and $\\underline n$ the beam tangent and normal director, $L$ the beam length, $EI$ and $ES$ the bending and extensional stiffness. We assume an unsherable extensible Navier-Bernoulli model and that the beam. We decompose the displacement and rotation as follows:\n",
    "\\begin{equation*}\n",
    "\\underline{u}(s)=u(s)\\underline t+v(s)\\underline n,\\qquad \n",
    "\\underline{\\theta}(s)=\\theta(s)\\,\\underline b,\\qquad\\underline {b}:=\\underline t\\times\\underline n\n",
    "\\end{equation*}\n",
    "We introduce below the notation and the expression of the potential energy using `sympy`"
   ]
  },
  {
   "cell_type": "code",
   "execution_count": 2,
   "metadata": {},
   "outputs": [
    {
     "data": {
      "text/latex": [
       "$\\displaystyle \\frac{EI \\int\\limits_{0}^{L} \\left(\\frac{d^{2}}{d s^{2}} v{\\left(s \\right)}\\right)^{2}\\, ds}{2} + \\frac{ES \\int\\limits_{0}^{L} \\left(\\frac{d}{d s} u{\\left(s \\right)}\\right)^{2}\\, ds}{2}$"
      ],
      "text/plain": [
       "EI*Integral(Derivative(v(s), (s, 2))**2, (s, 0, L))/2 + ES*Integral(Derivative(u(s), s)**2, (s, 0, L))/2"
      ]
     },
     "execution_count": 2,
     "metadata": {},
     "output_type": "execute_result"
    }
   ],
   "source": [
    "s, L = symbols(\"s L\")\n",
    "u, v = Function(\"u\"), Function(\"v\")\n",
    "EI, EA = symbols(\"EI , ES\")\n",
    "bending_energy = EI/2 * integrate(v(s).diff(s,2)**2, (s,0,L))\n",
    "extensional_energy = EA/2 * integrate(u(s).diff(s,1)**2, (s,0,L))\n",
    "elastic_energy = bending_energy + extensional_energy\n",
    "total_energy = elastic_energy # there are not external forces only applied displacements\n",
    "total_energy"
   ]
  },
  {
   "attachments": {},
   "cell_type": "markdown",
   "metadata": {},
   "source": [
    "In the absence of distributed loading the governing equations are as follows (they can by found by imposing the stationarity of the potential energy)\n",
    "- Extension\n",
    "\\begin{equation*}\n",
    "u''(s)=0\\quad\\forall  s\\in(0,L),\\qquad u(0)=u_0,\\qquad u(L)=u_L\n",
    "\\end{equation*}\n",
    "- Bending \n",
    "\\begin{equation*}\n",
    "v''''(s)=0\\quad\\forall  s\\in(0,L),\\qquad v(0)=v_0,\\;v'(0)=\\theta_0,\\; v(L)=v_L,\\; v'(L)=\\theta_L\n",
    "\\end{equation*}"
   ]
  },
  {
   "attachments": {},
   "cell_type": "markdown",
   "metadata": {},
   "source": [
    "### Extension\n",
    "We solve below the extensional problem using `sympy`"
   ]
  },
  {
   "cell_type": "code",
   "execution_count": 3,
   "metadata": {},
   "outputs": [
    {
     "data": {
      "text/latex": [
       "$\\displaystyle u{\\left(s \\right)} = u_{0} + \\frac{s \\left(- u_{0} + u_{L}\\right)}{L}$"
      ],
      "text/plain": [
       "Eq(u(s), u_0 + s*(-u_0 + u_L)/L)"
      ]
     },
     "execution_count": 3,
     "metadata": {},
     "output_type": "execute_result"
    }
   ],
   "source": [
    "s, L = symbols(\"s L\")\n",
    "u0, uL = symbols(\"u_0 u_L\")\n",
    "eq = (Eq(Derivative(u(s),s,s),0))\n",
    "usol = dsolve(eq,ics={u(0):u0,u(L):uL})\n",
    "usol"
   ]
  },
  {
   "attachments": {},
   "cell_type": "markdown",
   "metadata": {},
   "source": [
    "### Bending\n",
    "... and similarly for the bending problem"
   ]
  },
  {
   "cell_type": "code",
   "execution_count": 4,
   "metadata": {},
   "outputs": [
    {
     "data": {
      "text/latex": [
       "$\\displaystyle v{\\left(s \\right)} = \\theta_{0} s + v_{0} + \\frac{s^{2} \\left(- 2 L \\theta_{0} - L \\theta_{L} - 3 v_{0} + 3 v_{L}\\right)}{L^{2}} + \\frac{s^{3} \\left(L \\theta_{0} + L \\theta_{L} + 2 v_{0} - 2 v_{L}\\right)}{L^{3}}$"
      ],
      "text/plain": [
       "Eq(v(s), \\theta_0*s + v_0 + s**2*(-2*L*\\theta_0 - L*\\theta_L - 3*v_0 + 3*v_L)/L**2 + s**3*(L*\\theta_0 + L*\\theta_L + 2*v_0 - 2*v_L)/L**3)"
      ]
     },
     "execution_count": 4,
     "metadata": {},
     "output_type": "execute_result"
    }
   ],
   "source": [
    "v0, vL, theta0, thetaL = symbols(\"v_0 v_L \\\\theta_0 \\\\theta_L\")\n",
    "eq = (Eq(v(s).diff(s,4),0))\n",
    "vsol = dsolve(eq,ics={v(0): v0, \n",
    "               v(L): vL,\n",
    "               v(s).diff(s).subs(s, 0): theta0,\n",
    "               v(s).diff(s).subs(s, L): thetaL})\n",
    "vsol"
   ]
  },
  {
   "attachments": {},
   "cell_type": "markdown",
   "metadata": {},
   "source": [
    "## Plot of the deformed shape"
   ]
  },
  {
   "attachments": {},
   "cell_type": "markdown",
   "metadata": {},
   "source": [
    "Let as define the vector $\\underline{U}_e$ is the vector collecting the imposed displacement and rotation"
   ]
  },
  {
   "cell_type": "code",
   "execution_count": 5,
   "metadata": {},
   "outputs": [],
   "source": [
    "Ue = Array((u0,v0,theta0,uL,vL,thetaL))"
   ]
  },
  {
   "attachments": {},
   "cell_type": "markdown",
   "metadata": {},
   "source": [
    "We can plot the deformed shape for given values of $U_e$. \n",
    "You can modify the values to get the different shapes."
   ]
  },
  {
   "cell_type": "code",
   "execution_count": 6,
   "metadata": {},
   "outputs": [
    {
     "data": {
      "image/png": "[encoded data removed]",
      "text/plain": [
       "<Figure size 640x480 with 1 Axes>"
      ]
     },
     "metadata": {},
     "output_type": "display_data"
    }
   ],
   "source": [
    "import sympy\n",
    "Ue_values = np.array([0,0,1,0,0,0])\n",
    "pl = sympy.plot_parametric(s + usol.rhs.subs({u0:Ue_values[0],\n",
    "                                              uL:Ue_values[3],\n",
    "                                              L:1}),\n",
    "                           vsol.rhs.subs({v0:Ue_values[1], \n",
    "                                          vL:Ue_values[4], \n",
    "                                          theta0:Ue_values[2], \n",
    "                                          thetaL:Ue_values[5],\n",
    "                                          L:1}),\n",
    "                           (s,0,1),\n",
    "                           xlabel=\"x\",\n",
    "                           ylabel=\"y\",\n",
    "                           title=f\"Deformed shape for $U_e=${Ue_values}\")"
   ]
  },
  {
   "attachments": {},
   "cell_type": "markdown",
   "metadata": {},
   "source": [
    "### Potential energy and elemental stiffness matrix\n",
    "Hence, we can compute the potential energy of the system in terms of the imposed end-displacement and end-rotation in terms of an elemental stiffness matrix $\\underline{\\underline{K}}_e$ as \n",
    "\\begin{equation*}\n",
    "E_p(\\underline U_e)=\\dfrac{1}{2}(\\underline{\\underline K}_e.\\underline{U}_e).\\underline{U}_e\n",
    "\\end{equation*}"
   ]
  },
  {
   "attachments": {},
   "cell_type": "markdown",
   "metadata": {},
   "source": [
    "The solution can be written in the form\n",
    "\\begin{equation*}\n",
    "\\begin{bmatrix}\n",
    "u(s)\\\\v(s)\n",
    "\\end{bmatrix}\n",
    "=\\underline{\\underline{D}}.\\underline U_e\n",
    "\\end{equation*}\n",
    "where \n"
   ]
  },
  {
   "cell_type": "code",
   "execution_count": 7,
   "metadata": {},
   "outputs": [
    {
     "data": {
      "text/latex": [
       "$\\displaystyle \\left[\\begin{matrix}1 - \\frac{s}{L} & 0 & 0 & \\frac{s}{L} & 0 & 0\\\\0 & 1 - \\frac{3 s^{2}}{L^{2}} + \\frac{2 s^{3}}{L^{3}} & s - \\frac{2 s^{2}}{L} + \\frac{s^{3}}{L^{2}} & 0 & \\frac{3 s^{2}}{L^{2}} - \\frac{2 s^{3}}{L^{3}} & - \\frac{s^{2}}{L} + \\frac{s^{3}}{L^{2}}\\end{matrix}\\right]$"
      ],
      "text/plain": [
       "Matrix([\n",
       "[1 - s/L,                             0,                        0, s/L,                         0,                   0],\n",
       "[      0, 1 - 3*s**2/L**2 + 2*s**3/L**3, s - 2*s**2/L + s**3/L**2,   0, 3*s**2/L**2 - 2*s**3/L**3, -s**2/L + s**3/L**2]])"
      ]
     },
     "execution_count": 7,
     "metadata": {},
     "output_type": "execute_result"
    }
   ],
   "source": [
    "D = Matrix([[usol.rhs.diff(Ui) for Ui in Ue],\n",
    "     [vsol.rhs.diff(Ui) for Ui in Ue]])\n",
    "D"
   ]
  },
  {
   "attachments": {},
   "cell_type": "markdown",
   "metadata": {},
   "source": [
    "The total energy of the solution is"
   ]
  },
  {
   "cell_type": "code",
   "execution_count": 8,
   "metadata": {},
   "outputs": [
    {
     "data": {
      "text/latex": [
       "$\\displaystyle \\frac{\\frac{4 EI \\left(L^{3} \\cdot \\left(3 L^{2} \\theta_{0}^{2} + 6 L^{2} \\theta_{0} \\theta_{L} + 3 L^{2} \\theta_{L}^{2} + 12 L \\theta_{0} v_{0} - 12 L \\theta_{0} v_{L} + 12 L \\theta_{L} v_{0} - 12 L \\theta_{L} v_{L} + 12 v_{0}^{2} - 24 v_{0} v_{L} + 12 v_{L}^{2}\\right) + L^{2} \\left(- 6 L^{3} \\theta_{0}^{2} - 9 L^{3} \\theta_{0} \\theta_{L} - 3 L^{3} \\theta_{L}^{2} - 21 L^{2} \\theta_{0} v_{0} + 21 L^{2} \\theta_{0} v_{L} - 15 L^{2} \\theta_{L} v_{0} + 15 L^{2} \\theta_{L} v_{L} - 18 L v_{0}^{2} + 36 L v_{0} v_{L} - 18 L v_{L}^{2}\\right) + L \\left(4 L^{4} \\theta_{0}^{2} + 4 L^{4} \\theta_{0} \\theta_{L} + L^{4} \\theta_{L}^{2} + 12 L^{3} \\theta_{0} v_{0} - 12 L^{3} \\theta_{0} v_{L} + 6 L^{3} \\theta_{L} v_{0} - 6 L^{3} \\theta_{L} v_{L} + 9 L^{2} v_{0}^{2} - 18 L^{2} v_{0} v_{L} + 9 L^{2} v_{L}^{2}\\right)\\right)}{L^{4}} + ES L \\left(- u_{0} + u_{L}\\right)^{2}}{2 L^{2}}$"
      ],
      "text/plain": [
       "(4*EI*(L**3*(3*L**2*\\theta_0**2 + 6*L**2*\\theta_0*\\theta_L + 3*L**2*\\theta_L**2 + 12*L*\\theta_0*v_0 - 12*L*\\theta_0*v_L + 12*L*\\theta_L*v_0 - 12*L*\\theta_L*v_L + 12*v_0**2 - 24*v_0*v_L + 12*v_L**2) + L**2*(-6*L**3*\\theta_0**2 - 9*L**3*\\theta_0*\\theta_L - 3*L**3*\\theta_L**2 - 21*L**2*\\theta_0*v_0 + 21*L**2*\\theta_0*v_L - 15*L**2*\\theta_L*v_0 + 15*L**2*\\theta_L*v_L - 18*L*v_0**2 + 36*L*v_0*v_L - 18*L*v_L**2) + L*(4*L**4*\\theta_0**2 + 4*L**4*\\theta_0*\\theta_L + L**4*\\theta_L**2 + 12*L**3*\\theta_0*v_0 - 12*L**3*\\theta_0*v_L + 6*L**3*\\theta_L*v_0 - 6*L**3*\\theta_L*v_L + 9*L**2*v_0**2 - 18*L**2*v_0*v_L + 9*L**2*v_L**2))/L**4 + ES*L*(-u_0 + u_L)**2)/(2*L**2)"
      ]
     },
     "execution_count": 8,
     "metadata": {},
     "output_type": "execute_result"
    }
   ],
   "source": [
    "total_energy_sol = simplify(total_energy.subs({u(s):usol.rhs,v(s):vsol.rhs}))\n",
    "total_energy_sol"
   ]
  },
  {
   "attachments": {},
   "cell_type": "markdown",
   "metadata": {},
   "source": [
    "And the elemental stiffness matrix is given by"
   ]
  },
  {
   "cell_type": "code",
   "execution_count": 9,
   "metadata": {},
   "outputs": [
    {
     "data": {
      "text/latex": [
       "$\\displaystyle \\left[\\begin{matrix}\\frac{ES}{L} & 0 & 0 & - \\frac{ES}{L} & 0 & 0\\\\0 & \\frac{12 EI}{L^{3}} & \\frac{6 EI}{L^{2}} & 0 & - \\frac{12 EI}{L^{3}} & \\frac{6 EI}{L^{2}}\\\\0 & \\frac{6 EI}{L^{2}} & \\frac{4 EI}{L} & 0 & - \\frac{6 EI}{L^{2}} & \\frac{2 EI}{L}\\\\- \\frac{ES}{L} & 0 & 0 & \\frac{ES}{L} & 0 & 0\\\\0 & - \\frac{12 EI}{L^{3}} & - \\frac{6 EI}{L^{2}} & 0 & \\frac{12 EI}{L^{3}} & - \\frac{6 EI}{L^{2}}\\\\0 & \\frac{6 EI}{L^{2}} & \\frac{2 EI}{L} & 0 & - \\frac{6 EI}{L^{2}} & \\frac{4 EI}{L}\\end{matrix}\\right]$"
      ],
      "text/plain": [
       "Matrix([\n",
       "[ ES/L,           0,          0, -ES/L,           0,          0],\n",
       "[    0,  12*EI/L**3,  6*EI/L**2,     0, -12*EI/L**3,  6*EI/L**2],\n",
       "[    0,   6*EI/L**2,     4*EI/L,     0,  -6*EI/L**2,     2*EI/L],\n",
       "[-ES/L,           0,          0,  ES/L,           0,          0],\n",
       "[    0, -12*EI/L**3, -6*EI/L**2,     0,  12*EI/L**3, -6*EI/L**2],\n",
       "[    0,   6*EI/L**2,     2*EI/L,     0,  -6*EI/L**2,     4*EI/L]])"
      ]
     },
     "execution_count": 9,
     "metadata": {},
     "output_type": "execute_result"
    }
   ],
   "source": [
    "Ke = Matrix([[total_energy_sol.diff(Ui,Uj) for Ui in Ue] for Uj in Ue])\n",
    "Ke"
   ]
  },
  {
   "attachments": {},
   "cell_type": "markdown",
   "metadata": {},
   "source": [
    "## Global frame and change of coordinate\n",
    "\n",
    "Let us known introduce a global frame $(0,\\underline{e_1},\\underline{e_2})$ and let us call $\\alpha$ the angle giving the orientation of the tangent  and normal vector in this frame. We can then define the coordinates of the displacement vector $\\underline u$ in this new frame"
   ]
  },
  {
   "cell_type": "code",
   "execution_count": 10,
   "metadata": {},
   "outputs": [
    {
     "data": {
      "text/latex": [
       "$\\displaystyle \\left[\\begin{matrix}u{\\left(s \\right)} \\cos{\\left(\\alpha \\right)} - v{\\left(s \\right)} \\sin{\\left(\\alpha \\right)} & u{\\left(s \\right)} \\sin{\\left(\\alpha \\right)} + v{\\left(s \\right)} \\cos{\\left(\\alpha \\right)}\\end{matrix}\\right]$"
      ],
      "text/plain": [
       "[u(s)*cos(\\alpha) - v(s)*sin(\\alpha), u(s)*sin(\\alpha) + v(s)*cos(\\alpha)]"
      ]
     },
     "execution_count": 10,
     "metadata": {},
     "output_type": "execute_result"
    }
   ],
   "source": [
    "alpha = Symbol(\"\\\\alpha\")\n",
    "t = Array([cos(alpha), sin(alpha)])\n",
    "n = Array([-sin(alpha), cos(alpha)])\n",
    "u_star = u(s) * t + v(s) * n\n",
    "u_star"
   ]
  },
  {
   "attachments": {},
   "cell_type": "markdown",
   "metadata": {},
   "source": [
    "We define $\\underline{U}^*_{e}$ the vector giving the component of the end-displacement \n",
    " $\\underline{U}_e$ in the global frame. \n",
    "Hence, we compute the following orthogonal matrix $T$ such that \n",
    "\\begin{equation*}\n",
    "\\underline{U}^*_e = T.\\underline{U}_e,\\qquad\n",
    "\\underline{U}_e = T^t.\\underline{U}^*_e\n",
    "\\end{equation*}"
   ]
  },
  {
   "cell_type": "code",
   "execution_count": 11,
   "metadata": {},
   "outputs": [
    {
     "data": {
      "text/latex": [
       "$\\displaystyle \\left[\\begin{matrix}\\cos{\\left(\\alpha \\right)} & \\sin{\\left(\\alpha \\right)} & 0 & 0 & 0 & 0\\\\- \\sin{\\left(\\alpha \\right)} & \\cos{\\left(\\alpha \\right)} & 0 & 0 & 0 & 0\\\\0 & 0 & 1 & 0 & 0 & 0\\\\0 & 0 & 0 & \\cos{\\left(\\alpha \\right)} & \\sin{\\left(\\alpha \\right)} & 0\\\\0 & 0 & 0 & - \\sin{\\left(\\alpha \\right)} & \\cos{\\left(\\alpha \\right)} & 0\\\\0 & 0 & 0 & 0 & 0 & 1\\end{matrix}\\right]$"
      ],
      "text/plain": [
       "Matrix([\n",
       "[ cos(\\alpha), sin(\\alpha), 0,            0,           0, 0],\n",
       "[-sin(\\alpha), cos(\\alpha), 0,            0,           0, 0],\n",
       "[           0,           0, 1,            0,           0, 0],\n",
       "[           0,           0, 0,  cos(\\alpha), sin(\\alpha), 0],\n",
       "[           0,           0, 0, -sin(\\alpha), cos(\\alpha), 0],\n",
       "[           0,           0, 0,            0,           0, 1]])"
      ]
     },
     "execution_count": 11,
     "metadata": {},
     "output_type": "execute_result"
    }
   ],
   "source": [
    "u0_s = u0 * t + v0 * n\n",
    "uL_s = uL * t + vL * n\n",
    "Ue_s = Array((u0_s[0],u0_s[1],theta0,uL_s[0],uL_s[1],thetaL))\n",
    "T = Matrix([Ue_s.diff(Ui) for Ui in Ue])\n",
    "T\n"
   ]
  },
  {
   "cell_type": "markdown",
   "metadata": {},
   "source": [
    "The local stiffness matrix in the new coordinate is defined by\n"
   ]
  },
  {
   "cell_type": "code",
   "execution_count": 12,
   "metadata": {},
   "outputs": [
    {
     "data": {
      "text/latex": [
       "$\\displaystyle \\left[\\begin{matrix}\\frac{12 EI \\sin^{2}{\\left(\\alpha \\right)}}{L^{3}} + \\frac{ES \\cos^{2}{\\left(\\alpha \\right)}}{L} & \\frac{12 EI \\sin{\\left(\\alpha \\right)} \\cos{\\left(\\alpha \\right)}}{L^{3}} - \\frac{ES \\sin{\\left(\\alpha \\right)} \\cos{\\left(\\alpha \\right)}}{L} & \\frac{6 EI \\sin{\\left(\\alpha \\right)}}{L^{2}} & - \\frac{12 EI \\sin^{2}{\\left(\\alpha \\right)}}{L^{3}} - \\frac{ES \\cos^{2}{\\left(\\alpha \\right)}}{L} & - \\frac{12 EI \\sin{\\left(\\alpha \\right)} \\cos{\\left(\\alpha \\right)}}{L^{3}} + \\frac{ES \\sin{\\left(\\alpha \\right)} \\cos{\\left(\\alpha \\right)}}{L} & \\frac{6 EI \\sin{\\left(\\alpha \\right)}}{L^{2}}\\\\\\frac{12 EI \\sin{\\left(\\alpha \\right)} \\cos{\\left(\\alpha \\right)}}{L^{3}} - \\frac{ES \\sin{\\left(\\alpha \\right)} \\cos{\\left(\\alpha \\right)}}{L} & \\frac{12 EI \\cos^{2}{\\left(\\alpha \\right)}}{L^{3}} + \\frac{ES \\sin^{2}{\\left(\\alpha \\right)}}{L} & \\frac{6 EI \\cos{\\left(\\alpha \\right)}}{L^{2}} & - \\frac{12 EI \\sin{\\left(\\alpha \\right)} \\cos{\\left(\\alpha \\right)}}{L^{3}} + \\frac{ES \\sin{\\left(\\alpha \\right)} \\cos{\\left(\\alpha \\right)}}{L} & - \\frac{12 EI \\cos^{2}{\\left(\\alpha \\right)}}{L^{3}} - \\frac{ES \\sin^{2}{\\left(\\alpha \\right)}}{L} & \\frac{6 EI \\cos{\\left(\\alpha \\right)}}{L^{2}}\\\\\\frac{6 EI \\sin{\\left(\\alpha \\right)}}{L^{2}} & \\frac{6 EI \\cos{\\left(\\alpha \\right)}}{L^{2}} & \\frac{4 EI}{L} & - \\frac{6 EI \\sin{\\left(\\alpha \\right)}}{L^{2}} & - \\frac{6 EI \\cos{\\left(\\alpha \\right)}}{L^{2}} & \\frac{2 EI}{L}\\\\- \\frac{12 EI \\sin^{2}{\\left(\\alpha \\right)}}{L^{3}} - \\frac{ES \\cos^{2}{\\left(\\alpha \\right)}}{L} & - \\frac{12 EI \\sin{\\left(\\alpha \\right)} \\cos{\\left(\\alpha \\right)}}{L^{3}} + \\frac{ES \\sin{\\left(\\alpha \\right)} \\cos{\\left(\\alpha \\right)}}{L} & - \\frac{6 EI \\sin{\\left(\\alpha \\right)}}{L^{2}} & \\frac{12 EI \\sin^{2}{\\left(\\alpha \\right)}}{L^{3}} + \\frac{ES \\cos^{2}{\\left(\\alpha \\right)}}{L} & \\frac{12 EI \\sin{\\left(\\alpha \\right)} \\cos{\\left(\\alpha \\right)}}{L^{3}} - \\frac{ES \\sin{\\left(\\alpha \\right)} \\cos{\\left(\\alpha \\right)}}{L} & - \\frac{6 EI \\sin{\\left(\\alpha \\right)}}{L^{2}}\\\\- \\frac{12 EI \\sin{\\left(\\alpha \\right)} \\cos{\\left(\\alpha \\right)}}{L^{3}} + \\frac{ES \\sin{\\left(\\alpha \\right)} \\cos{\\left(\\alpha \\right)}}{L} & - \\frac{12 EI \\cos^{2}{\\left(\\alpha \\right)}}{L^{3}} - \\frac{ES \\sin^{2}{\\left(\\alpha \\right)}}{L} & - \\frac{6 EI \\cos{\\left(\\alpha \\right)}}{L^{2}} & \\frac{12 EI \\sin{\\left(\\alpha \\right)} \\cos{\\left(\\alpha \\right)}}{L^{3}} - \\frac{ES \\sin{\\left(\\alpha \\right)} \\cos{\\left(\\alpha \\right)}}{L} & \\frac{12 EI \\cos^{2}{\\left(\\alpha \\right)}}{L^{3}} + \\frac{ES \\sin^{2}{\\left(\\alpha \\right)}}{L} & - \\frac{6 EI \\cos{\\left(\\alpha \\right)}}{L^{2}}\\\\\\frac{6 EI \\sin{\\left(\\alpha \\right)}}{L^{2}} & \\frac{6 EI \\cos{\\left(\\alpha \\right)}}{L^{2}} & \\frac{2 EI}{L} & - \\frac{6 EI \\sin{\\left(\\alpha \\right)}}{L^{2}} & - \\frac{6 EI \\cos{\\left(\\alpha \\right)}}{L^{2}} & \\frac{4 EI}{L}\\end{matrix}\\right]$"
      ],
      "text/plain": [
       "Matrix([\n",
       "[                   12*EI*sin(\\alpha)**2/L**3 + ES*cos(\\alpha)**2/L,  12*EI*sin(\\alpha)*cos(\\alpha)/L**3 - ES*sin(\\alpha)*cos(\\alpha)/L,  6*EI*sin(\\alpha)/L**2,                   -12*EI*sin(\\alpha)**2/L**3 - ES*cos(\\alpha)**2/L, -12*EI*sin(\\alpha)*cos(\\alpha)/L**3 + ES*sin(\\alpha)*cos(\\alpha)/L,  6*EI*sin(\\alpha)/L**2],\n",
       "[ 12*EI*sin(\\alpha)*cos(\\alpha)/L**3 - ES*sin(\\alpha)*cos(\\alpha)/L,                    12*EI*cos(\\alpha)**2/L**3 + ES*sin(\\alpha)**2/L,  6*EI*cos(\\alpha)/L**2, -12*EI*sin(\\alpha)*cos(\\alpha)/L**3 + ES*sin(\\alpha)*cos(\\alpha)/L,                   -12*EI*cos(\\alpha)**2/L**3 - ES*sin(\\alpha)**2/L,  6*EI*cos(\\alpha)/L**2],\n",
       "[                                             6*EI*sin(\\alpha)/L**2,                                              6*EI*cos(\\alpha)/L**2,                 4*EI/L,                                             -6*EI*sin(\\alpha)/L**2,                                             -6*EI*cos(\\alpha)/L**2,                 2*EI/L],\n",
       "[                  -12*EI*sin(\\alpha)**2/L**3 - ES*cos(\\alpha)**2/L, -12*EI*sin(\\alpha)*cos(\\alpha)/L**3 + ES*sin(\\alpha)*cos(\\alpha)/L, -6*EI*sin(\\alpha)/L**2,                    12*EI*sin(\\alpha)**2/L**3 + ES*cos(\\alpha)**2/L,  12*EI*sin(\\alpha)*cos(\\alpha)/L**3 - ES*sin(\\alpha)*cos(\\alpha)/L, -6*EI*sin(\\alpha)/L**2],\n",
       "[-12*EI*sin(\\alpha)*cos(\\alpha)/L**3 + ES*sin(\\alpha)*cos(\\alpha)/L,                   -12*EI*cos(\\alpha)**2/L**3 - ES*sin(\\alpha)**2/L, -6*EI*cos(\\alpha)/L**2,  12*EI*sin(\\alpha)*cos(\\alpha)/L**3 - ES*sin(\\alpha)*cos(\\alpha)/L,                    12*EI*cos(\\alpha)**2/L**3 + ES*sin(\\alpha)**2/L, -6*EI*cos(\\alpha)/L**2],\n",
       "[                                             6*EI*sin(\\alpha)/L**2,                                              6*EI*cos(\\alpha)/L**2,                 2*EI/L,                                             -6*EI*sin(\\alpha)/L**2,                                             -6*EI*cos(\\alpha)/L**2,                 4*EI/L]])"
      ]
     },
     "execution_count": 12,
     "metadata": {},
     "output_type": "execute_result"
    }
   ],
   "source": [
    "Ke_s = (T*Ke)*T.transpose()\n",
    "Ke_s"
   ]
  },
  {
   "attachments": {},
   "cell_type": "markdown",
   "metadata": {},
   "source": [
    "## Frame: assembling several beams"
   ]
  },
  {
   "attachments": {},
   "cell_type": "markdown",
   "metadata": {},
   "source": [
    "### Define the frame\n",
    "The frame is defined by \n",
    "- *Geometry*: a set of `nodes` connected by `elements`. Each element is a beam.\n",
    "- *Material properties*: the bending (`EIs`) and extensional (`EAs`) stiffness of the beams \n",
    "- *Loading*, composed of:\n",
    "    - Imposed *nodal displacement*: a list of `blocked_dof` with prescribed `bc_values`\n",
    "    - Imposed *nodal forces* (and moments): `F`\n",
    "\n",
    "A frame with `n` nodes has $3 *n$ dofs. \n",
    "We collect them in the global generalized displacement vector $\\underline U^{*}$:\n",
    "\\begin{equation*}\n",
    "\\begin{bmatrix}\n",
    "u^{*(0)},v^{*(0)},\\theta^{0}, \\ldots, u^{*(i)},v^{*(i)},\\theta^{*(i)},\\ldots,\n",
    " u^{*(n)},v^{*(n)},\\theta^{*(n)}\n",
    "\\end{bmatrix}^t\n",
    "\\end{equation*}\n",
    "where $u^{*(i)},v^{*(i)},\\theta^{*(i)}$ are the components of the displacement and rotation of the node $i$ in the **global reference frame**. "
   ]
  },
  {
   "cell_type": "code",
   "execution_count": 13,
   "metadata": {},
   "outputs": [
    {
     "name": "stdout",
     "output_type": "stream",
     "text": [
      "Nodes: [[0 0]\n",
      " [1 1]\n",
      " [2 0]]\n",
      "Elements: [[0 1]\n",
      " [1 2]]\n"
     ]
    }
   ],
   "source": [
    "nodes = np.array([\n",
    "    [0,0],\n",
    "    [1,1],\n",
    "    [2,0]\n",
    "    ])\n",
    "\n",
    "elements = np.array([\n",
    "    [0,1],\n",
    "    [1,2]\n",
    "    ])\n",
    "\n",
    "n_nodes = len(nodes)\n",
    "n_elements = len(elements)\n",
    "print(f\"Nodes: {nodes}\")\n",
    "print(f\"Elements: {elements}\")\n"
   ]
  },
  {
   "cell_type": "code",
   "execution_count": 14,
   "metadata": {},
   "outputs": [
    {
     "name": "stdout",
     "output_type": "stream",
     "text": [
      "The displacement [0 0 0 0] are imposed on the dofs [0 1 6 7]\n",
      "Force vector: [0. 0. 0. 1. 1. 0. 0. 0. 0.] \n",
      "EAs: [1. 1.] \n",
      "EIs: [0.1 0.1] \n"
     ]
    }
   ],
   "source": [
    "# Global solution vector collecting the nodal displacements and rotations\n",
    "U = np.zeros(n_nodes * 3)\n",
    "\n",
    "# Imposed nodal displacements and rotations\n",
    "blocked_dof= np.array([0,1,6,7])\n",
    "bc_values = np.zeros_like(blocked_dof)\n",
    "print(f\"The displacement {bc_values} are imposed on the dofs {blocked_dof}\")\n",
    "\n",
    "# Force vector\n",
    "F = np.zeros(n_nodes *3)\n",
    "F[3 * 1] = 1\n",
    "F[3 * 1 + 1] = 1\n",
    "print(f\"Force vector: {F} \")\n",
    "\n",
    "# Material properties\n",
    "EA_n = 1.\n",
    "EI_n = 0.1\n",
    "EAs = np.ones(len(elements))\n",
    "EIs = EI_n* np.ones(len(elements))\n",
    "print(f\"EAs: {EAs} \")\n",
    "print(f\"EIs: {EIs} \")\n"
   ]
  },
  {
   "attachments": {},
   "cell_type": "markdown",
   "metadata": {},
   "source": [
    "We define below the dof maps and the beam orientations and lengths"
   ]
  },
  {
   "cell_type": "code",
   "execution_count": 25,
   "metadata": {},
   "outputs": [
    {
     "name": "stdout",
     "output_type": "stream",
     "text": [
      "Beam orientations: [ 0.78539816 -0.78539816]\n",
      "Beam lengths: [1.41421356 1.41421356]\n",
      "Global dofs of elements 0: [0, 1, 2, 3, 4, 5]\n",
      "Global dofs of elements 1: [3, 4, 5, 6, 7, 8]\n"
     ]
    }
   ],
   "source": [
    "def global_dofs_element(element):\n",
    "    \"\"\"\n",
    "    Returns the global dof numbers given the element \n",
    "    (as a pair of node numbers) \n",
    "    \"\"\"\n",
    "    node_0 = element[0] \n",
    "    node_L = element[1] \n",
    "    # global dofs number for the element vector\n",
    "    global_dofs = [3 * node_0, \n",
    "                   3 * node_0 + 1, \n",
    "                   3 * node_0 + 2, \n",
    "                   3 * node_L, \n",
    "                   3 * node_L + 1,\n",
    "                   3 * node_L + 2] \n",
    "    return global_dofs\n",
    "\n",
    "def dof_map_node(node,i_local):\n",
    "    \"\"\"\n",
    "    Returns the global dof number given the node number \n",
    "    and the local dof number in the node\"\"\"\n",
    "    return 3 * node + i_local\n",
    "\n",
    "def length(element_nodes):\n",
    "    \"\"\"Returns the element length\"\"\"\n",
    "    vec = element_nodes[1]-element_nodes[0]\n",
    "    return np.sqrt(np.dot(vec,vec))\n",
    "    \n",
    "def angle(element_nodes):\n",
    "    \"\"\"Returns the element orientation\"\"\"\n",
    "    vec = element_nodes[1]-element_nodes[0]\n",
    "    return np.arctan2(vec[1],vec[0])\n",
    "\n",
    "Ls = np.array([length(nodes[el]) for el in elements])\n",
    "alphas = np.array([angle(nodes[el]) for el in elements])\n",
    "print(f\"Beam orientations: {alphas}\")\n",
    "print(f\"Beam lengths: {Ls}\")\n",
    "for  e, element in enumerate(elements):\n",
    "    print(f\"Global dofs of elements {e}: {global_dofs_element(element)}\")"
   ]
  },
  {
   "attachments": {},
   "cell_type": "markdown",
   "metadata": {},
   "source": [
    "### Assembling the stiffness matrix\n",
    "\n",
    "We assemble the global stiffness matrix from the element stiffness matrix $\\underline{\\underline{K}}_e$. \n",
    "In the code below `global_dofs` are the global dofs number corresponding to the local displacement vector $\\underline{U}_e$"
   ]
  },
  {
   "cell_type": "code",
   "execution_count": 27,
   "metadata": {},
   "outputs": [
    {
     "data": {
      "text/latex": [
       "$\\displaystyle \\left[\\begin{matrix}0.57 & -0.14 & 0.21 & -0.57 & 0.14 & 0.21 & 0 & 0 & 0\\\\-0.14 & 0.57 & 0.21 & 0.14 & -0.57 & 0.21 & 0 & 0 & 0\\\\0.21 & 0.21 & 0.28 & -0.21 & -0.21 & 0.14 & 0 & 0 & 0\\\\-0.57 & 0.14 & -0.21 & 1.13 & 0 & -0.42 & -0.57 & -0.14 & -0.21\\\\0.14 & -0.57 & -0.21 & 0 & 1.13 & 0 & -0.14 & -0.57 & 0.21\\\\0.21 & 0.21 & 0.14 & -0.42 & 0 & 0.57 & 0.21 & -0.21 & 0.14\\\\0 & 0 & 0 & -0.57 & -0.14 & 0.21 & 0.57 & 0.14 & 0.21\\\\0 & 0 & 0 & -0.14 & -0.57 & -0.21 & 0.14 & 0.57 & -0.21\\\\0 & 0 & 0 & -0.21 & 0.21 & 0.14 & 0.21 & -0.21 & 0.28\\end{matrix}\\right]$"
      ],
      "text/plain": [
       "Matrix([\n",
       "[ 0.57, -0.14,  0.21, -0.57,  0.14,  0.21,     0,     0,     0],\n",
       "[-0.14,  0.57,  0.21,  0.14, -0.57,  0.21,     0,     0,     0],\n",
       "[ 0.21,  0.21,  0.28, -0.21, -0.21,  0.14,     0,     0,     0],\n",
       "[-0.57,  0.14, -0.21,  1.13,     0, -0.42, -0.57, -0.14, -0.21],\n",
       "[ 0.14, -0.57, -0.21,     0,  1.13,     0, -0.14, -0.57,  0.21],\n",
       "[ 0.21,  0.21,  0.14, -0.42,     0,  0.57,  0.21, -0.21,  0.14],\n",
       "[    0,     0,     0, -0.57, -0.14,  0.21,  0.57,  0.14,  0.21],\n",
       "[    0,     0,     0, -0.14, -0.57, -0.21,  0.14,  0.57, -0.21],\n",
       "[    0,     0,     0, -0.21,  0.21,  0.14,  0.21, -0.21,  0.28]])"
      ]
     },
     "execution_count": 27,
     "metadata": {},
     "output_type": "execute_result"
    },
    {
     "data": {
      "image/png": "[encoded data removed]",
      "text/plain": [
       "<Figure size 480x480 with 2 Axes>"
      ]
     },
     "metadata": {},
     "output_type": "display_data"
    }
   ],
   "source": [
    "# initialize the stiffness matrix\n",
    "K_global = np.zeros([3 * n_nodes,3 * n_nodes])\n",
    "# Assembling the element matrices in the global one\n",
    "for e, element in enumerate(elements):\n",
    "    K_element = np.array(Ke_s.subs({\"L\" : Ls[e], \n",
    "                                    \"ES\" : EAs[e],\n",
    "                                    \"EI\" : EIs[e],\n",
    "                                    \"\\\\alpha\" : alphas[e]\n",
    "                                    }),dtype=float)\n",
    "    # global node number of the left and right nodes in the element\n",
    "    node_0 = element[0] \n",
    "    node_L = element[1] \n",
    "    # global dofs number for the element vector\n",
    "    glob_dofs = global_dofs_element(element) \n",
    "    # Adding element contribution to the global matrix\n",
    "    K_global[np.ix_(glob_dofs,glob_dofs)] += K_element \n",
    "\n",
    "# Visualize the result\n",
    "plt.matshow(K_global,interpolation='none')\n",
    "plt.title(\"Global stiffness matrix\")\n",
    "plt.colorbar()\n",
    "# Print the matirx\n",
    "Matrix(np.round(K_global,2))\n"
   ]
  },
  {
   "attachments": {},
   "cell_type": "markdown",
   "metadata": {},
   "source": [
    "### Apply BCs and loads\n",
    "To apply the boundary condition we modify the linear system to solve (see the finite element class)"
   ]
  },
  {
   "cell_type": "code",
   "execution_count": 28,
   "metadata": {},
   "outputs": [],
   "source": [
    "def bc_apply(K,F,blocked_dof,bc_values):\n",
    "    for (i, dof) in enumerate(blocked_dof): \n",
    "        Kbc = K \n",
    "        Fbc = F\n",
    "        Kbc[dof, :] = 0\n",
    "        Kbc[:, dof] = 0\n",
    "        Kbc[dof, dof] = 1\n",
    "        Fbc += - K[:,dof] * bc_values[i]\n",
    "        Fbc[dof] = bc_values[i]\n",
    "    return Kbc, Fbc"
   ]
  },
  {
   "attachments": {},
   "cell_type": "markdown",
   "metadata": {},
   "source": [
    "We select the blocked dofs, the apply force and define the final linear system to solve"
   ]
  },
  {
   "cell_type": "code",
   "execution_count": 29,
   "metadata": {},
   "outputs": [
    {
     "data": {
      "text/plain": [
       "(Matrix([\n",
       " [1.0,   0,     0,     0,     0,     0,   0,   0,     0],\n",
       " [  0, 1.0,     0,     0,     0,     0,   0,   0,     0],\n",
       " [  0,   0,  0.28, -0.21, -0.21,  0.14,   0,   0,     0],\n",
       " [  0,   0, -0.21,  1.13,     0, -0.42,   0,   0, -0.21],\n",
       " [  0,   0, -0.21,     0,  1.13,     0,   0,   0,  0.21],\n",
       " [  0,   0,  0.14, -0.42,     0,  0.57,   0,   0,  0.14],\n",
       " [  0,   0,     0,     0,     0,     0, 1.0,   0,     0],\n",
       " [  0,   0,     0,     0,     0,     0,   0, 1.0,     0],\n",
       " [  0,   0,     0, -0.21,  0.21,  0.14,   0,   0,  0.28]]),\n",
       " Matrix([\n",
       " [  0],\n",
       " [  0],\n",
       " [  0],\n",
       " [1.0],\n",
       " [1.0],\n",
       " [  0],\n",
       " [  0],\n",
       " [  0],\n",
       " [  0]]))"
      ]
     },
     "execution_count": 29,
     "metadata": {},
     "output_type": "execute_result"
    }
   ],
   "source": [
    "Kbc, Fbc = bc_apply(K_global, F, blocked_dof, bc_values)\n",
    "Matrix(np.round(Kbc,2)), Matrix(Fbc)"
   ]
  },
  {
   "cell_type": "markdown",
   "metadata": {},
   "source": [
    "### Solve the linear system"
   ]
  },
  {
   "cell_type": "code",
   "execution_count": 30,
   "metadata": {},
   "outputs": [
    {
     "data": {
      "text/plain": [
       "array([ 0.        ,  0.        ,  1.62941997,  1.41421356,  1.22975092,\n",
       "        0.70710678,  0.        ,  0.        , -0.21520641])"
      ]
     },
     "execution_count": 30,
     "metadata": {},
     "output_type": "execute_result"
    }
   ],
   "source": [
    "Usol = np.linalg.solve(Kbc,Fbc)\n",
    "Usol"
   ]
  },
  {
   "attachments": {},
   "cell_type": "markdown",
   "metadata": {},
   "source": [
    "### Introduce global vector and mapping to local vectors\n",
    "The following functions are useful to get the displacement $U_e$ of an element in global and local coordinates."
   ]
  },
  {
   "cell_type": "code",
   "execution_count": 35,
   "metadata": {},
   "outputs": [
    {
     "ename": "TypeError",
     "evalue": "'int' object is not subscriptable",
     "output_type": "error",
     "traceback": [
      "\u001b[0;31m---------------------------------------------------------------------------\u001b[0m",
      "\u001b[0;31mTypeError\u001b[0m                                 Traceback (most recent call last)",
      "Cell \u001b[0;32mIn[35], line 15\u001b[0m\n\u001b[1;32m     12\u001b[0m \u001b[39m    \u001b[39m\u001b[39m\"\"\" Returns the displacement of a node\"\"\"\u001b[39;00m\n\u001b[1;32m     13\u001b[0m     \u001b[39mreturn\u001b[39;00m U\u001b[39m.\u001b[39mtake([\u001b[39m3\u001b[39m \u001b[39m*\u001b[39m n, \u001b[39m3\u001b[39m \u001b[39m*\u001b[39m n \u001b[39m+\u001b[39m \u001b[39m1\u001b[39m])\n\u001b[0;32m---> 15\u001b[0m U_elem(U,\u001b[39m1\u001b[39;49m)\n",
      "Cell \u001b[0;32mIn[35], line 3\u001b[0m, in \u001b[0;36mU_elem\u001b[0;34m(U, e)\u001b[0m\n\u001b[1;32m      1\u001b[0m \u001b[39mdef\u001b[39;00m \u001b[39mU_elem\u001b[39m(U,e):\n\u001b[1;32m      2\u001b[0m \u001b[39m    \u001b[39m\u001b[39m\"\"\" Returns the element local values in global coordinates\"\"\"\u001b[39;00m\n\u001b[0;32m----> 3\u001b[0m     glob_dofs \u001b[39m=\u001b[39m global_dofs_element(e)\n\u001b[1;32m      4\u001b[0m     \u001b[39mreturn\u001b[39;00m U\u001b[39m.\u001b[39mtake(glob_dofs)\n",
      "Cell \u001b[0;32mIn[25], line 6\u001b[0m, in \u001b[0;36mglobal_dofs_element\u001b[0;34m(element)\u001b[0m\n\u001b[1;32m      1\u001b[0m \u001b[39mdef\u001b[39;00m \u001b[39mglobal_dofs_element\u001b[39m(element):\n\u001b[1;32m      2\u001b[0m \u001b[39m    \u001b[39m\u001b[39m\"\"\"\u001b[39;00m\n\u001b[1;32m      3\u001b[0m \u001b[39m    Returns the global dof numbers given the element \u001b[39;00m\n\u001b[1;32m      4\u001b[0m \u001b[39m    (as a pair of node numbers) \u001b[39;00m\n\u001b[1;32m      5\u001b[0m \u001b[39m    \"\"\"\u001b[39;00m\n\u001b[0;32m----> 6\u001b[0m     node_0 \u001b[39m=\u001b[39m element[\u001b[39m0\u001b[39;49m] \n\u001b[1;32m      7\u001b[0m     node_L \u001b[39m=\u001b[39m element[\u001b[39m1\u001b[39m] \n\u001b[1;32m      8\u001b[0m     \u001b[39m# global dofs number for the element vector\u001b[39;00m\n",
      "\u001b[0;31mTypeError\u001b[0m: 'int' object is not subscriptable"
     ]
    }
   ],
   "source": [
    "def U_elem(U,e):\n",
    "    \"\"\" Returns the element local values in global coordinates\"\"\"\n",
    "    glob_dofs = global_dofs_element(e)\n",
    "    return U.take(glob_dofs)\n",
    "\n",
    "def U_elem_loc(U,e):\n",
    "    \"\"\" Returns the element local values in local coordinates\"\"\"\n",
    "    T_mat = T.transpose().subs({alpha:alphas[e]})\n",
    "    return  np.dot(T_mat, U_elem(U,e))\n",
    "\n",
    "def U_node(U,n):\n",
    "    \"\"\" Returns the displacement of a node\"\"\"\n",
    "    return U.take([3 * n, 3 * n + 1])\n",
    "\n",
    "U_elem(U,1)"
   ]
  },
  {
   "cell_type": "markdown",
   "metadata": {},
   "source": [
    "### Visualize the results"
   ]
  },
  {
   "cell_type": "code",
   "execution_count": 34,
   "metadata": {},
   "outputs": [
    {
     "ename": "TypeError",
     "evalue": "'int' object is not subscriptable",
     "output_type": "error",
     "traceback": [
      "\u001b[0;31m---------------------------------------------------------------------------\u001b[0m",
      "\u001b[0;31mTypeError\u001b[0m                                 Traceback (most recent call last)",
      "Cell \u001b[0;32mIn[34], line 18\u001b[0m\n\u001b[1;32m     16\u001b[0m \u001b[39mfor\u001b[39;00m e, el \u001b[39min\u001b[39;00m \u001b[39menumerate\u001b[39m(elements):\n\u001b[1;32m     17\u001b[0m     factor \u001b[39m=\u001b[39m \u001b[39m.5\u001b[39m \n\u001b[0;32m---> 18\u001b[0m     fun \u001b[39m=\u001b[39m element_deformed(Usol,e,factor\u001b[39m=\u001b[39;49mfactor)\n\u001b[1;32m     19\u001b[0m     plt\u001b[39m.\u001b[39mplot([fun[\u001b[39m0\u001b[39m]\u001b[39m.\u001b[39msubs({s:sv}) \u001b[39mfor\u001b[39;00m sv \u001b[39min\u001b[39;00m ss \u001b[39m*\u001b[39m Ls[e]], [fun[\u001b[39m1\u001b[39m]\u001b[39m.\u001b[39msubs({s:sv}) \u001b[39mfor\u001b[39;00m sv \u001b[39min\u001b[39;00m ss \u001b[39m*\u001b[39m Ls[e]],\u001b[39m\"\u001b[39m\u001b[39mblack\u001b[39m\u001b[39m\"\u001b[39m)\n\u001b[1;32m     20\u001b[0m     plt\u001b[39m.\u001b[39mplot(\u001b[39m*\u001b[39mnp\u001b[39m.\u001b[39marray([nodes[n] \u001b[39m+\u001b[39m factor \u001b[39m*\u001b[39m U_node(Usol,n) \u001b[39mfor\u001b[39;00m n \u001b[39min\u001b[39;00m \u001b[39mrange\u001b[39m(\u001b[39mlen\u001b[39m(nodes))])\u001b[39m.\u001b[39mT,\n\u001b[1;32m     21\u001b[0m              \u001b[39m'\u001b[39m\u001b[39mo\u001b[39m\u001b[39m'\u001b[39m,markerfacecolor\u001b[39m=\u001b[39m\u001b[39m\"\u001b[39m\u001b[39morange\u001b[39m\u001b[39m\"\u001b[39m,markeredgecolor\u001b[39m=\u001b[39m\u001b[39m\"\u001b[39m\u001b[39morange\u001b[39m\u001b[39m\"\u001b[39m)\n",
      "Cell \u001b[0;32mIn[34], line 8\u001b[0m, in \u001b[0;36melement_deformed\u001b[0;34m(U_s, e, factor)\u001b[0m\n\u001b[1;32m      7\u001b[0m \u001b[39mdef\u001b[39;00m \u001b[39melement_deformed\u001b[39m(U_s,e,factor\u001b[39m=\u001b[39m\u001b[39m1.0\u001b[39m):\n\u001b[0;32m----> 8\u001b[0m     \u001b[39mreturn\u001b[39;00m element_initial(e) \u001b[39m+\u001b[39m factor \u001b[39m*\u001b[39m element_displacement(U_s,e)\n",
      "Cell \u001b[0;32mIn[34], line 2\u001b[0m, in \u001b[0;36melement_displacement\u001b[0;34m(U_s, e)\u001b[0m\n\u001b[1;32m      1\u001b[0m \u001b[39mdef\u001b[39;00m \u001b[39melement_displacement\u001b[39m(U_s,e):\n\u001b[0;32m----> 2\u001b[0m     \u001b[39mreturn\u001b[39;00m np\u001b[39m.\u001b[39mdot((Matrix([t, n]) \u001b[39m*\u001b[39m D)\u001b[39m.\u001b[39msubs({alpha:alphas[e],L:Ls[e]}), U_elem_loc(U_s,e))\n",
      "Cell \u001b[0;32mIn[33], line 9\u001b[0m, in \u001b[0;36mU_elem_loc\u001b[0;34m(U, e)\u001b[0m\n\u001b[1;32m      7\u001b[0m \u001b[39m\u001b[39m\u001b[39m\"\"\" Returns the element local values in local coordinates\"\"\"\u001b[39;00m\n\u001b[1;32m      8\u001b[0m T_mat \u001b[39m=\u001b[39m T\u001b[39m.\u001b[39mtranspose()\u001b[39m.\u001b[39msubs({alpha:alphas[e]})\n\u001b[0;32m----> 9\u001b[0m \u001b[39mreturn\u001b[39;00m  np\u001b[39m.\u001b[39mdot(T_mat, U_elem(U,e))\n",
      "Cell \u001b[0;32mIn[33], line 3\u001b[0m, in \u001b[0;36mU_elem\u001b[0;34m(U, e)\u001b[0m\n\u001b[1;32m      1\u001b[0m \u001b[39mdef\u001b[39;00m \u001b[39mU_elem\u001b[39m(U,e):\n\u001b[1;32m      2\u001b[0m \u001b[39m    \u001b[39m\u001b[39m\"\"\" Returns the element local values in global coordinates\"\"\"\u001b[39;00m\n\u001b[0;32m----> 3\u001b[0m     glob_dofs \u001b[39m=\u001b[39m global_dofs_element(e)\n\u001b[1;32m      4\u001b[0m     \u001b[39mreturn\u001b[39;00m U\u001b[39m.\u001b[39mtake(glob_dofs)\n",
      "Cell \u001b[0;32mIn[25], line 6\u001b[0m, in \u001b[0;36mglobal_dofs_element\u001b[0;34m(element)\u001b[0m\n\u001b[1;32m      1\u001b[0m \u001b[39mdef\u001b[39;00m \u001b[39mglobal_dofs_element\u001b[39m(element):\n\u001b[1;32m      2\u001b[0m \u001b[39m    \u001b[39m\u001b[39m\"\"\"\u001b[39;00m\n\u001b[1;32m      3\u001b[0m \u001b[39m    Returns the global dof numbers given the element \u001b[39;00m\n\u001b[1;32m      4\u001b[0m \u001b[39m    (as a pair of node numbers) \u001b[39;00m\n\u001b[1;32m      5\u001b[0m \u001b[39m    \"\"\"\u001b[39;00m\n\u001b[0;32m----> 6\u001b[0m     node_0 \u001b[39m=\u001b[39m element[\u001b[39m0\u001b[39;49m] \n\u001b[1;32m      7\u001b[0m     node_L \u001b[39m=\u001b[39m element[\u001b[39m1\u001b[39m] \n\u001b[1;32m      8\u001b[0m     \u001b[39m# global dofs number for the element vector\u001b[39;00m\n",
      "\u001b[0;31mTypeError\u001b[0m: 'int' object is not subscriptable"
     ]
    },
    {
     "data": {
      "image/png": "[encoded data removed]",
      "text/plain": [
       "<Figure size 640x480 with 1 Axes>"
      ]
     },
     "metadata": {},
     "output_type": "display_data"
    }
   ],
   "source": [
    "def element_displacement(U_s,e):\n",
    "    return np.dot((Matrix([t, n]) * D).subs({alpha:alphas[e],L:Ls[e]}), U_elem_loc(U_s,e))\n",
    "\n",
    "def element_initial(e):\n",
    "    return nodes[elements[e][0]] + s * t.subs({alpha:alphas[e]})\n",
    "\n",
    "def element_deformed(U_s,e,factor=1.0):\n",
    "    return element_initial(e) + factor * element_displacement(U_s,e)\n",
    "\n",
    "ss = np.linspace(0,1,10)\n",
    "for e, el in enumerate(elements):\n",
    "    fun = element_initial(e)\n",
    "    plt.plot([fun[0].subs({s:sv}) for sv in ss * Ls[e]], [fun[1].subs({s:sv}) for sv in ss * Ls[e]],\"gray\")\n",
    "    plt.plot(*nodes.T,'o',markerfacecolor=\"gray\",markeredgecolor=\"darkgray\")\n",
    "    \n",
    "for e, el in enumerate(elements):\n",
    "    factor = .5 \n",
    "    fun = element_deformed(Usol,e,factor=factor)\n",
    "    plt.plot([fun[0].subs({s:sv}) for sv in ss * Ls[e]], [fun[1].subs({s:sv}) for sv in ss * Ls[e]],\"black\")\n",
    "    plt.plot(*np.array([nodes[n] + factor * U_node(Usol,n) for n in range(len(nodes))]).T,\n",
    "             'o',markerfacecolor=\"orange\",markeredgecolor=\"orange\")\n",
    "    plt.xlabel(\"x\")\n",
    "    plt.ylabel(\"y\")\n",
    "    plt.title(\"Reference and deformed configurations\")\n",
    "    "
   ]
  },
  {
   "attachments": {},
   "cell_type": "markdown",
   "metadata": {},
   "source": [
    "### Verification"
   ]
  },
  {
   "attachments": {},
   "cell_type": "markdown",
   "metadata": {},
   "source": [
    "The exact solution for the nodal displacement of the top node is (see {cite:p}`ballard09`, page 74)"
   ]
  },
  {
   "cell_type": "code",
   "execution_count": null,
   "metadata": {},
   "outputs": [],
   "source": [
    "u_exact = simplify(Array([L/EA ,(1- 1/(1 + (EA * L**2)/(3 * EI)) ) * (L/EA)]))\n",
    "print(u_exact.subs({L:Ls[1],EA:EA_n,EI:EI_n}))\n"
   ]
  },
  {
   "cell_type": "markdown",
   "metadata": {},
   "source": [
    "The numerical solution is"
   ]
  },
  {
   "cell_type": "code",
   "execution_count": null,
   "metadata": {},
   "outputs": [],
   "source": [
    "U_node(Usol,1)"
   ]
  }
 ],
 "metadata": {
  "kernelspec": {
   "display_name": "mu4mes03",
   "language": "python",
   "name": "python3"
  },
  "language_info": {
   "codemirror_mode": {
    "name": "ipython",
    "version": 3
   },
   "file_extension": ".py",
   "mimetype": "text/x-python",
   "name": "python",
   "nbconvert_exporter": "python",
   "pygments_lexer": "ipython3",
   "version": "3.8.15"
  },
  "orig_nbformat": 4,
  "vscode": {
   "interpreter": {
    "hash": "667ff6395851df9d68252118dbdf8ef7216a9e5e13d344180fd9c757ba0ac66a"
   }
  }
 },
 "nbformat": 4,
 "nbformat_minor": 2
}
